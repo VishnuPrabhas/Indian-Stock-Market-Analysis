{
 "cells": [
  {
   "cell_type": "code",
   "execution_count": 1,
   "id": "f1b92a83",
   "metadata": {
    "ExecuteTime": {
     "end_time": "2021-05-24T05:23:06.914507Z",
     "start_time": "2021-05-24T05:23:03.935Z"
    }
   },
   "outputs": [
    {
     "name": "stderr",
     "output_type": "stream",
     "text": [
      "Warning message:\n",
      "\"package 'ggplot2' was built under R version 3.6.3\"Warning message:\n",
      "\"package 'tidyverse' was built under R version 3.6.3\"-- \u001b[1mAttaching packages\u001b[22m ------------------------------------------------------------------------------- tidyverse 1.3.1 --\n",
      "\u001b[32mv\u001b[39m \u001b[34mtibble \u001b[39m 3.1.0     \u001b[32mv\u001b[39m \u001b[34mdplyr  \u001b[39m 1.0.5\n",
      "\u001b[32mv\u001b[39m \u001b[34mtidyr  \u001b[39m 1.1.3     \u001b[32mv\u001b[39m \u001b[34mstringr\u001b[39m 1.4.0\n",
      "\u001b[32mv\u001b[39m \u001b[34mreadr  \u001b[39m 1.4.0     \u001b[32mv\u001b[39m \u001b[34mforcats\u001b[39m 0.5.1\n",
      "\u001b[32mv\u001b[39m \u001b[34mpurrr  \u001b[39m 0.3.4     \n",
      "Warning message:\n",
      "\"package 'tibble' was built under R version 3.6.3\"Warning message:\n",
      "\"package 'tidyr' was built under R version 3.6.3\"Warning message:\n",
      "\"package 'readr' was built under R version 3.6.3\"Warning message:\n",
      "\"package 'purrr' was built under R version 3.6.3\"Warning message:\n",
      "\"package 'dplyr' was built under R version 3.6.3\"Warning message:\n",
      "\"package 'stringr' was built under R version 3.6.3\"Warning message:\n",
      "\"package 'forcats' was built under R version 3.6.3\"-- \u001b[1mConflicts\u001b[22m ---------------------------------------------------------------------------------- tidyverse_conflicts() --\n",
      "\u001b[31mx\u001b[39m \u001b[34mdplyr\u001b[39m::\u001b[32mfilter()\u001b[39m  masks \u001b[34mstats\u001b[39m::filter()\n",
      "\u001b[31mx\u001b[39m \u001b[34mpurrr\u001b[39m::\u001b[32mflatten()\u001b[39m masks \u001b[34mjsonlite\u001b[39m::flatten()\n",
      "\u001b[31mx\u001b[39m \u001b[34mdplyr\u001b[39m::\u001b[32mlag()\u001b[39m     masks \u001b[34mstats\u001b[39m::lag()\n",
      "Warning message:\n",
      "\"package 'corrplot' was built under R version 3.6.3\"corrplot 0.88 loaded\n"
     ]
    }
   ],
   "source": [
    "# Loading the required libraries\n",
    "library(ggplot2)\n",
    "library(tidyverse)\n",
    "library(dplyr)\n",
    "library(corrplot)"
   ]
  },
  {
   "cell_type": "code",
   "execution_count": 2,
   "id": "c49bcd7b",
   "metadata": {
    "ExecuteTime": {
     "end_time": "2021-05-24T05:23:06.983350Z",
     "start_time": "2021-05-24T05:23:03.971Z"
    }
   },
   "outputs": [
    {
     "data": {
      "text/html": [
       "<table class=\"dataframe\">\n",
       "<caption>A data.frame: 6 × 7</caption>\n",
       "<thead>\n",
       "\t<tr><th></th><th scope=col>Date</th><th scope=col>Open</th><th scope=col>High</th><th scope=col>Low</th><th scope=col>Close</th><th scope=col>Adj.Close</th><th scope=col>Volume</th></tr>\n",
       "\t<tr><th></th><th scope=col>&lt;fct&gt;</th><th scope=col>&lt;fct&gt;</th><th scope=col>&lt;fct&gt;</th><th scope=col>&lt;fct&gt;</th><th scope=col>&lt;fct&gt;</th><th scope=col>&lt;fct&gt;</th><th scope=col>&lt;fct&gt;</th></tr>\n",
       "</thead>\n",
       "<tbody>\n",
       "\t<tr><th scope=row>1</th><td>2016-05-16</td><td>40.002701</td><td>40.300488</td><td>39.357494</td><td>39.804176</td><td>39.804176</td><td>290899</td></tr>\n",
       "\t<tr><th scope=row>2</th><td>2016-05-17</td><td>40.151592</td><td>40.995323</td><td>39.704914</td><td>40.399750</td><td>40.399750</td><td>419863</td></tr>\n",
       "\t<tr><th scope=row>3</th><td>2016-05-18</td><td>40.052330</td><td>40.350117</td><td>39.804176</td><td>39.903439</td><td>39.903439</td><td>220391</td></tr>\n",
       "\t<tr><th scope=row>4</th><td>2016-05-19</td><td>40.002701</td><td>42.285732</td><td>39.903439</td><td>40.896061</td><td>40.896061</td><td>693498</td></tr>\n",
       "\t<tr><th scope=row>5</th><td>2016-05-20</td><td>40.896061</td><td>41.193848</td><td>39.556019</td><td>39.903439</td><td>39.903439</td><td>375344</td></tr>\n",
       "\t<tr><th scope=row>6</th><td>2016-05-23</td><td>39.903439</td><td>40.350117</td><td>39.655281</td><td>39.853806</td><td>39.853806</td><td>239396</td></tr>\n",
       "</tbody>\n",
       "</table>\n"
      ],
      "text/latex": [
       "A data.frame: 6 × 7\n",
       "\\begin{tabular}{r|lllllll}\n",
       "  & Date & Open & High & Low & Close & Adj.Close & Volume\\\\\n",
       "  & <fct> & <fct> & <fct> & <fct> & <fct> & <fct> & <fct>\\\\\n",
       "\\hline\n",
       "\t1 & 2016-05-16 & 40.002701 & 40.300488 & 39.357494 & 39.804176 & 39.804176 & 290899\\\\\n",
       "\t2 & 2016-05-17 & 40.151592 & 40.995323 & 39.704914 & 40.399750 & 40.399750 & 419863\\\\\n",
       "\t3 & 2016-05-18 & 40.052330 & 40.350117 & 39.804176 & 39.903439 & 39.903439 & 220391\\\\\n",
       "\t4 & 2016-05-19 & 40.002701 & 42.285732 & 39.903439 & 40.896061 & 40.896061 & 693498\\\\\n",
       "\t5 & 2016-05-20 & 40.896061 & 41.193848 & 39.556019 & 39.903439 & 39.903439 & 375344\\\\\n",
       "\t6 & 2016-05-23 & 39.903439 & 40.350117 & 39.655281 & 39.853806 & 39.853806 & 239396\\\\\n",
       "\\end{tabular}\n"
      ],
      "text/markdown": [
       "\n",
       "A data.frame: 6 × 7\n",
       "\n",
       "| <!--/--> | Date &lt;fct&gt; | Open &lt;fct&gt; | High &lt;fct&gt; | Low &lt;fct&gt; | Close &lt;fct&gt; | Adj.Close &lt;fct&gt; | Volume &lt;fct&gt; |\n",
       "|---|---|---|---|---|---|---|---|\n",
       "| 1 | 2016-05-16 | 40.002701 | 40.300488 | 39.357494 | 39.804176 | 39.804176 | 290899 |\n",
       "| 2 | 2016-05-17 | 40.151592 | 40.995323 | 39.704914 | 40.399750 | 40.399750 | 419863 |\n",
       "| 3 | 2016-05-18 | 40.052330 | 40.350117 | 39.804176 | 39.903439 | 39.903439 | 220391 |\n",
       "| 4 | 2016-05-19 | 40.002701 | 42.285732 | 39.903439 | 40.896061 | 40.896061 | 693498 |\n",
       "| 5 | 2016-05-20 | 40.896061 | 41.193848 | 39.556019 | 39.903439 | 39.903439 | 375344 |\n",
       "| 6 | 2016-05-23 | 39.903439 | 40.350117 | 39.655281 | 39.853806 | 39.853806 | 239396 |\n",
       "\n"
      ],
      "text/plain": [
       "  Date       Open      High      Low       Close     Adj.Close Volume\n",
       "1 2016-05-16 40.002701 40.300488 39.357494 39.804176 39.804176 290899\n",
       "2 2016-05-17 40.151592 40.995323 39.704914 40.399750 40.399750 419863\n",
       "3 2016-05-18 40.052330 40.350117 39.804176 39.903439 39.903439 220391\n",
       "4 2016-05-19 40.002701 42.285732 39.903439 40.896061 40.896061 693498\n",
       "5 2016-05-20 40.896061 41.193848 39.556019 39.903439 39.903439 375344\n",
       "6 2016-05-23 39.903439 40.350117 39.655281 39.853806 39.853806 239396"
      ]
     },
     "metadata": {},
     "output_type": "display_data"
    }
   ],
   "source": [
    "# Reading the csv file\n",
    "data = read.csv('HCL-INSYS.BO.csv')\n",
    "head(data)"
   ]
  },
  {
   "cell_type": "code",
   "execution_count": 3,
   "id": "59720bc2",
   "metadata": {
    "ExecuteTime": {
     "end_time": "2021-05-24T05:23:07.026765Z",
     "start_time": "2021-05-24T05:23:03.995Z"
    }
   },
   "outputs": [
    {
     "data": {
      "text/html": [
       "<style>\n",
       ".list-inline {list-style: none; margin:0; padding: 0}\n",
       ".list-inline>li {display: inline-block}\n",
       ".list-inline>li:not(:last-child)::after {content: \"\\00b7\"; padding: 0 .5ex}\n",
       "</style>\n",
       "<ol class=list-inline><li>1234</li><li>7</li></ol>\n"
      ],
      "text/latex": [
       "\\begin{enumerate*}\n",
       "\\item 1234\n",
       "\\item 7\n",
       "\\end{enumerate*}\n"
      ],
      "text/markdown": [
       "1. 1234\n",
       "2. 7\n",
       "\n",
       "\n"
      ],
      "text/plain": [
       "[1] 1234    7"
      ]
     },
     "metadata": {},
     "output_type": "display_data"
    }
   ],
   "source": [
    "# Display the dimension of csv file\n",
    "dim(data)"
   ]
  },
  {
   "cell_type": "code",
   "execution_count": 4,
   "id": "b72fda2c",
   "metadata": {
    "ExecuteTime": {
     "end_time": "2021-05-24T05:23:07.087596Z",
     "start_time": "2021-05-24T05:23:04.018Z"
    }
   },
   "outputs": [
    {
     "name": "stdout",
     "output_type": "stream",
     "text": [
      "'data.frame':\t1234 obs. of  7 variables:\n",
      " $ Date     : Factor w/ 1234 levels \"2016-05-16\",\"2016-05-17\",..: 1 2 3 4 5 6 7 8 9 10 ...\n",
      " $ Open     : Factor w/ 839 levels \"10.000000\",\"10.100000\",..: 283 286 284 283 296 273 286 271 262 250 ...\n",
      " $ High     : Factor w/ 877 levels \"10.000000\",\"10.090000\",..: 293 306 294 325 312 294 290 301 271 264 ...\n",
      " $ Low      : Factor w/ 823 levels \"10.140000\",\"10.150000\",..: 258 266 268 270 262 265 251 258 238 242 ...\n",
      " $ Close    : Factor w/ 861 levels \"10.140000\",\"10.160000\",..: 272 292 274 301 274 273 266 288 255 249 ...\n",
      " $ Adj.Close: Factor w/ 861 levels \"10.140000\",\"10.160000\",..: 272 292 274 301 274 273 266 288 255 249 ...\n",
      " $ Volume   : Factor w/ 1232 levels \"0\",\"100246\",\"1004612\",..: 481 692 338 1041 630 382 592 667 806 551 ...\n"
     ]
    }
   ],
   "source": [
    "# Details of the csv  \n",
    "str(data)"
   ]
  },
  {
   "cell_type": "code",
   "execution_count": 5,
   "id": "4d14c068",
   "metadata": {
    "ExecuteTime": {
     "end_time": "2021-05-24T05:23:07.169376Z",
     "start_time": "2021-05-24T05:23:04.040Z"
    }
   },
   "outputs": [
    {
     "name": "stderr",
     "output_type": "stream",
     "text": [
      "Warning message in FUN(newX[, i], ...):\n",
      "\"NAs introduced by coercion\"Warning message in FUN(newX[, i], ...):\n",
      "\"NAs introduced by coercion\"Warning message in FUN(newX[, i], ...):\n",
      "\"NAs introduced by coercion\"Warning message in FUN(newX[, i], ...):\n",
      "\"NAs introduced by coercion\"Warning message in FUN(newX[, i], ...):\n",
      "\"NAs introduced by coercion\"Warning message in FUN(newX[, i], ...):\n",
      "\"NAs introduced by coercion\""
     ]
    }
   ],
   "source": [
    "# Choose cols 2 to 7 and convert factor type to numeric\n",
    "i = c(2:7)\n",
    "data[, i] = apply(data[, i], 2, function(x) as.numeric(as.character(x)))\n",
    "                  "
   ]
  },
  {
   "cell_type": "code",
   "execution_count": 6,
   "id": "30a4ce51",
   "metadata": {
    "ExecuteTime": {
     "end_time": "2021-05-24T05:23:07.232208Z",
     "start_time": "2021-05-24T05:23:04.076Z"
    }
   },
   "outputs": [
    {
     "data": {
      "text/html": [
       "<style>\n",
       ".dl-inline {width: auto; margin:0; padding: 0}\n",
       ".dl-inline>dt, .dl-inline>dd {float: none; width: auto; display: inline-block}\n",
       ".dl-inline>dt::after {content: \":\\0020\"; padding-right: .5ex}\n",
       ".dl-inline>dt:not(:first-of-type) {padding-left: .5ex}\n",
       "</style><dl class=dl-inline><dt>Date</dt><dd>'factor'</dd><dt>Open</dt><dd>'numeric'</dd><dt>High</dt><dd>'numeric'</dd><dt>Low</dt><dd>'numeric'</dd><dt>Close</dt><dd>'numeric'</dd><dt>Adj.Close</dt><dd>'numeric'</dd><dt>Volume</dt><dd>'numeric'</dd></dl>\n"
      ],
      "text/latex": [
       "\\begin{description*}\n",
       "\\item[Date] 'factor'\n",
       "\\item[Open] 'numeric'\n",
       "\\item[High] 'numeric'\n",
       "\\item[Low] 'numeric'\n",
       "\\item[Close] 'numeric'\n",
       "\\item[Adj.Close] 'numeric'\n",
       "\\item[Volume] 'numeric'\n",
       "\\end{description*}\n"
      ],
      "text/markdown": [
       "Date\n",
       ":   'factor'Open\n",
       ":   'numeric'High\n",
       ":   'numeric'Low\n",
       ":   'numeric'Close\n",
       ":   'numeric'Adj.Close\n",
       ":   'numeric'Volume\n",
       ":   'numeric'\n",
       "\n"
      ],
      "text/plain": [
       "     Date      Open      High       Low     Close Adj.Close    Volume \n",
       " \"factor\" \"numeric\" \"numeric\" \"numeric\" \"numeric\" \"numeric\" \"numeric\" "
      ]
     },
     "metadata": {},
     "output_type": "display_data"
    }
   ],
   "source": [
    "# Applying the above func to data\n",
    "sapply(data, class)"
   ]
  },
  {
   "cell_type": "code",
   "execution_count": 7,
   "id": "e9543341",
   "metadata": {
    "ExecuteTime": {
     "end_time": "2021-05-24T05:23:07.291050Z",
     "start_time": "2021-05-24T05:23:04.100Z"
    }
   },
   "outputs": [
    {
     "name": "stdout",
     "output_type": "stream",
     "text": [
      "'data.frame':\t1234 obs. of  7 variables:\n",
      " $ Date     : Factor w/ 1234 levels \"2016-05-16\",\"2016-05-17\",..: 1 2 3 4 5 6 7 8 9 10 ...\n",
      " $ Open     : num  40 40.2 40.1 40 40.9 ...\n",
      " $ High     : num  40.3 41 40.4 42.3 41.2 ...\n",
      " $ Low      : num  39.4 39.7 39.8 39.9 39.6 ...\n",
      " $ Close    : num  39.8 40.4 39.9 40.9 39.9 ...\n",
      " $ Adj.Close: num  39.8 40.4 39.9 40.9 39.9 ...\n",
      " $ Volume   : num  290899 419863 220391 693498 375344 ...\n"
     ]
    }
   ],
   "source": [
    "# data after conversion\n",
    "str(data)"
   ]
  },
  {
   "cell_type": "code",
   "execution_count": 8,
   "id": "e695285a",
   "metadata": {
    "ExecuteTime": {
     "end_time": "2021-05-24T05:23:07.335930Z",
     "start_time": "2021-05-24T05:23:04.122Z"
    }
   },
   "outputs": [],
   "source": [
    "# There are 2 Missing values in the all the cols of the dataFrame\n",
    "# Hence removing those 2 rows in all the cols\n",
    "data = na.omit(data)"
   ]
  },
  {
   "cell_type": "code",
   "execution_count": 9,
   "id": "e3f04f2a",
   "metadata": {
    "ExecuteTime": {
     "end_time": "2021-05-24T05:23:07.367845Z",
     "start_time": "2021-05-24T05:23:04.145Z"
    }
   },
   "outputs": [],
   "source": [
    "# Creating a new dataframe called newData from previous dataframe (Data)\n",
    "# Here we drop the Date col\n",
    "newData = data %>% select(Open, High, Low, Close, Adj.Close, Volume)"
   ]
  },
  {
   "cell_type": "code",
   "execution_count": 10,
   "id": "b1dd2df9",
   "metadata": {
    "ExecuteTime": {
     "end_time": "2021-05-24T05:23:07.403749Z",
     "start_time": "2021-05-24T05:23:04.170Z"
    }
   },
   "outputs": [
    {
     "name": "stdout",
     "output_type": "stream",
     "text": [
      "'data.frame':\t1232 obs. of  6 variables:\n",
      " $ Open     : num  40 40.2 40.1 40 40.9 ...\n",
      " $ High     : num  40.3 41 40.4 42.3 41.2 ...\n",
      " $ Low      : num  39.4 39.7 39.8 39.9 39.6 ...\n",
      " $ Close    : num  39.8 40.4 39.9 40.9 39.9 ...\n",
      " $ Adj.Close: num  39.8 40.4 39.9 40.9 39.9 ...\n",
      " $ Volume   : num  290899 419863 220391 693498 375344 ...\n"
     ]
    }
   ],
   "source": [
    "# Structure of our new dataFrame\n",
    "str(newData)"
   ]
  },
  {
   "cell_type": "code",
   "execution_count": 11,
   "id": "d014094e",
   "metadata": {
    "ExecuteTime": {
     "end_time": "2021-05-24T05:23:07.450658Z",
     "start_time": "2021-05-24T05:23:04.192Z"
    }
   },
   "outputs": [
    {
     "data": {
      "text/html": [
       "<table class=\"dataframe\">\n",
       "<caption>A data.frame: 10 × 6</caption>\n",
       "<thead>\n",
       "\t<tr><th></th><th scope=col>Open</th><th scope=col>High</th><th scope=col>Low</th><th scope=col>Close</th><th scope=col>Adj.Close</th><th scope=col>Volume</th></tr>\n",
       "\t<tr><th></th><th scope=col>&lt;dbl&gt;</th><th scope=col>&lt;dbl&gt;</th><th scope=col>&lt;dbl&gt;</th><th scope=col>&lt;dbl&gt;</th><th scope=col>&lt;dbl&gt;</th><th scope=col>&lt;dbl&gt;</th></tr>\n",
       "</thead>\n",
       "<tbody>\n",
       "\t<tr><th scope=row>1</th><td>40.00270</td><td>40.30049</td><td>39.35749</td><td>39.80418</td><td>39.80418</td><td>290899</td></tr>\n",
       "\t<tr><th scope=row>2</th><td>40.15159</td><td>40.99532</td><td>39.70491</td><td>40.39975</td><td>40.39975</td><td>419863</td></tr>\n",
       "\t<tr><th scope=row>3</th><td>40.05233</td><td>40.35012</td><td>39.80418</td><td>39.90344</td><td>39.90344</td><td>220391</td></tr>\n",
       "\t<tr><th scope=row>4</th><td>40.00270</td><td>42.28573</td><td>39.90344</td><td>40.89606</td><td>40.89606</td><td>693498</td></tr>\n",
       "\t<tr><th scope=row>5</th><td>40.89606</td><td>41.19385</td><td>39.55602</td><td>39.90344</td><td>39.90344</td><td>375344</td></tr>\n",
       "\t<tr><th scope=row>6</th><td>39.90344</td><td>40.35012</td><td>39.65528</td><td>39.85381</td><td>39.85381</td><td>239396</td></tr>\n",
       "\t<tr><th scope=row>7</th><td>40.15159</td><td>40.15159</td><td>38.81155</td><td>39.45676</td><td>39.45676</td><td>352436</td></tr>\n",
       "\t<tr><th scope=row>8</th><td>39.80418</td><td>40.74717</td><td>39.35749</td><td>40.20123</td><td>40.20123</td><td>398211</td></tr>\n",
       "\t<tr><th scope=row>9</th><td>39.20860</td><td>39.40713</td><td>37.81893</td><td>38.71229</td><td>38.71229</td><td>482505</td></tr>\n",
       "\t<tr><th scope=row>10</th><td>38.41450</td><td>38.91081</td><td>38.11671</td><td>38.16635</td><td>38.16635</td><td>329993</td></tr>\n",
       "</tbody>\n",
       "</table>\n"
      ],
      "text/latex": [
       "A data.frame: 10 × 6\n",
       "\\begin{tabular}{r|llllll}\n",
       "  & Open & High & Low & Close & Adj.Close & Volume\\\\\n",
       "  & <dbl> & <dbl> & <dbl> & <dbl> & <dbl> & <dbl>\\\\\n",
       "\\hline\n",
       "\t1 & 40.00270 & 40.30049 & 39.35749 & 39.80418 & 39.80418 & 290899\\\\\n",
       "\t2 & 40.15159 & 40.99532 & 39.70491 & 40.39975 & 40.39975 & 419863\\\\\n",
       "\t3 & 40.05233 & 40.35012 & 39.80418 & 39.90344 & 39.90344 & 220391\\\\\n",
       "\t4 & 40.00270 & 42.28573 & 39.90344 & 40.89606 & 40.89606 & 693498\\\\\n",
       "\t5 & 40.89606 & 41.19385 & 39.55602 & 39.90344 & 39.90344 & 375344\\\\\n",
       "\t6 & 39.90344 & 40.35012 & 39.65528 & 39.85381 & 39.85381 & 239396\\\\\n",
       "\t7 & 40.15159 & 40.15159 & 38.81155 & 39.45676 & 39.45676 & 352436\\\\\n",
       "\t8 & 39.80418 & 40.74717 & 39.35749 & 40.20123 & 40.20123 & 398211\\\\\n",
       "\t9 & 39.20860 & 39.40713 & 37.81893 & 38.71229 & 38.71229 & 482505\\\\\n",
       "\t10 & 38.41450 & 38.91081 & 38.11671 & 38.16635 & 38.16635 & 329993\\\\\n",
       "\\end{tabular}\n"
      ],
      "text/markdown": [
       "\n",
       "A data.frame: 10 × 6\n",
       "\n",
       "| <!--/--> | Open &lt;dbl&gt; | High &lt;dbl&gt; | Low &lt;dbl&gt; | Close &lt;dbl&gt; | Adj.Close &lt;dbl&gt; | Volume &lt;dbl&gt; |\n",
       "|---|---|---|---|---|---|---|\n",
       "| 1 | 40.00270 | 40.30049 | 39.35749 | 39.80418 | 39.80418 | 290899 |\n",
       "| 2 | 40.15159 | 40.99532 | 39.70491 | 40.39975 | 40.39975 | 419863 |\n",
       "| 3 | 40.05233 | 40.35012 | 39.80418 | 39.90344 | 39.90344 | 220391 |\n",
       "| 4 | 40.00270 | 42.28573 | 39.90344 | 40.89606 | 40.89606 | 693498 |\n",
       "| 5 | 40.89606 | 41.19385 | 39.55602 | 39.90344 | 39.90344 | 375344 |\n",
       "| 6 | 39.90344 | 40.35012 | 39.65528 | 39.85381 | 39.85381 | 239396 |\n",
       "| 7 | 40.15159 | 40.15159 | 38.81155 | 39.45676 | 39.45676 | 352436 |\n",
       "| 8 | 39.80418 | 40.74717 | 39.35749 | 40.20123 | 40.20123 | 398211 |\n",
       "| 9 | 39.20860 | 39.40713 | 37.81893 | 38.71229 | 38.71229 | 482505 |\n",
       "| 10 | 38.41450 | 38.91081 | 38.11671 | 38.16635 | 38.16635 | 329993 |\n",
       "\n"
      ],
      "text/plain": [
       "   Open     High     Low      Close    Adj.Close Volume\n",
       "1  40.00270 40.30049 39.35749 39.80418 39.80418  290899\n",
       "2  40.15159 40.99532 39.70491 40.39975 40.39975  419863\n",
       "3  40.05233 40.35012 39.80418 39.90344 39.90344  220391\n",
       "4  40.00270 42.28573 39.90344 40.89606 40.89606  693498\n",
       "5  40.89606 41.19385 39.55602 39.90344 39.90344  375344\n",
       "6  39.90344 40.35012 39.65528 39.85381 39.85381  239396\n",
       "7  40.15159 40.15159 38.81155 39.45676 39.45676  352436\n",
       "8  39.80418 40.74717 39.35749 40.20123 40.20123  398211\n",
       "9  39.20860 39.40713 37.81893 38.71229 38.71229  482505\n",
       "10 38.41450 38.91081 38.11671 38.16635 38.16635  329993"
      ]
     },
     "metadata": {},
     "output_type": "display_data"
    }
   ],
   "source": [
    "head(newData, n = 10)"
   ]
  },
  {
   "cell_type": "code",
   "execution_count": 12,
   "id": "9bb00cc5",
   "metadata": {
    "ExecuteTime": {
     "end_time": "2021-05-24T05:23:08.501483Z",
     "start_time": "2021-05-24T05:23:04.213Z"
    },
    "scrolled": false
   },
   "outputs": [
    {
     "data": {
      "image/png": "[encoded data removed]",
      "text/plain": [
       "plot without title"
      ]
     },
     "metadata": {},
     "output_type": "display_data"
    }
   ],
   "source": [
    "# Correlation of each Feature\n",
    "pairs(newData)"
   ]
  },
  {
   "cell_type": "markdown",
   "id": "394341b2",
   "metadata": {},
   "source": [
    "All our features are linearly correlated, so let us look how the features are significant wrt to our response(Adj.Close) which is the Adjusted Close Price at the end of the day."
   ]
  },
  {
   "cell_type": "code",
   "execution_count": 13,
   "id": "a12ed867",
   "metadata": {
    "ExecuteTime": {
     "end_time": "2021-05-24T05:23:08.552334Z",
     "start_time": "2021-05-24T05:23:04.257Z"
    }
   },
   "outputs": [
    {
     "data": {
      "text/plain": [
       "\n",
       "Call:\n",
       "lm(formula = Adj.Close ~ Volume, data = newData)\n",
       "\n",
       "Residuals:\n",
       "    Min      1Q  Median      3Q     Max \n",
       "-88.024 -14.812  -1.403  14.055  32.586 \n",
       "\n",
       "Coefficients:\n",
       "             Estimate Std. Error t value Pr(>|t|)    \n",
       "(Intercept) 2.176e+01  5.481e-01   39.70   <2e-16 ***\n",
       "Volume      1.926e-05  8.083e-07   23.82   <2e-16 ***\n",
       "---\n",
       "Signif. codes:  0 '***' 0.001 '**' 0.01 '*' 0.05 '.' 0.1 ' ' 1\n",
       "\n",
       "Residual standard error: 16.09 on 1230 degrees of freedom\n",
       "Multiple R-squared:  0.3158,\tAdjusted R-squared:  0.3152 \n",
       "F-statistic: 567.6 on 1 and 1230 DF,  p-value: < 2.2e-16\n"
      ]
     },
     "metadata": {},
     "output_type": "display_data"
    }
   ],
   "source": [
    "# Fit the data to a Linear Regression model\n",
    "# Check for significance of Vloume wrt response\n",
    "model = lm(data = newData, Adj.Close ~ Volume)\n",
    "summary(model)"
   ]
  },
  {
   "cell_type": "code",
   "execution_count": 14,
   "id": "f636bfc6",
   "metadata": {
    "ExecuteTime": {
     "end_time": "2021-05-24T05:23:08.598075Z",
     "start_time": "2021-05-24T05:23:04.290Z"
    }
   },
   "outputs": [
    {
     "data": {
      "text/plain": [
       "\n",
       "Call:\n",
       "lm(formula = Adj.Close ~ Open, data = newData)\n",
       "\n",
       "Residuals:\n",
       "    Min      1Q  Median      3Q     Max \n",
       "-4.9393 -0.4074 -0.0468  0.2727  8.3947 \n",
       "\n",
       "Coefficients:\n",
       "             Estimate Std. Error t value Pr(>|t|)    \n",
       "(Intercept) -0.037174   0.053380  -0.696    0.486    \n",
       "Open         0.996013   0.001525 652.987   <2e-16 ***\n",
       "---\n",
       "Signif. codes:  0 '***' 0.001 '**' 0.01 '*' 0.05 '.' 0.1 ' ' 1\n",
       "\n",
       "Residual standard error: 1.043 on 1230 degrees of freedom\n",
       "Multiple R-squared:  0.9971,\tAdjusted R-squared:  0.9971 \n",
       "F-statistic: 4.264e+05 on 1 and 1230 DF,  p-value: < 2.2e-16\n"
      ]
     },
     "metadata": {},
     "output_type": "display_data"
    }
   ],
   "source": [
    "# Check for significance of Open wrt response\n",
    "model = lm(data = newData, Adj.Close ~ Open)\n",
    "summary(model)"
   ]
  },
  {
   "cell_type": "code",
   "execution_count": 15,
   "id": "ee07f01d",
   "metadata": {
    "ExecuteTime": {
     "end_time": "2021-05-24T05:23:08.650148Z",
     "start_time": "2021-05-24T05:23:04.313Z"
    }
   },
   "outputs": [
    {
     "data": {
      "text/plain": [
       "\n",
       "Call:\n",
       "lm(formula = Adj.Close ~ High, data = newData)\n",
       "\n",
       "Residuals:\n",
       "    Min      1Q  Median      3Q     Max \n",
       "-4.8407 -0.1791  0.0691  0.2629  1.2903 \n",
       "\n",
       "Coefficients:\n",
       "              Estimate Std. Error  t value Pr(>|t|)    \n",
       "(Intercept) -0.0438637  0.0270155   -1.624    0.105    \n",
       "High         0.9752807  0.0007555 1290.881   <2e-16 ***\n",
       "---\n",
       "Signif. codes:  0 '***' 0.001 '**' 0.01 '*' 0.05 '.' 0.1 ' ' 1\n",
       "\n",
       "Residual standard error: 0.5284 on 1230 degrees of freedom\n",
       "Multiple R-squared:  0.9993,\tAdjusted R-squared:  0.9993 \n",
       "F-statistic: 1.666e+06 on 1 and 1230 DF,  p-value: < 2.2e-16\n"
      ]
     },
     "metadata": {},
     "output_type": "display_data"
    }
   ],
   "source": [
    "# Check for significance of High wrt response\n",
    "model = lm(data = newData, Adj.Close ~ High)\n",
    "summary(model)"
   ]
  },
  {
   "cell_type": "code",
   "execution_count": 16,
   "id": "e931fc2b",
   "metadata": {
    "ExecuteTime": {
     "end_time": "2021-05-24T05:23:08.689046Z",
     "start_time": "2021-05-24T05:23:04.345Z"
    }
   },
   "outputs": [
    {
     "data": {
      "text/plain": [
       "\n",
       "Call:\n",
       "lm(formula = Adj.Close ~ Low, data = newData)\n",
       "\n",
       "Residuals:\n",
       "    Min      1Q  Median      3Q     Max \n",
       "-0.8749 -0.3420 -0.1334  0.0906  7.6037 \n",
       "\n",
       "Coefficients:\n",
       "            Estimate Std. Error t value Pr(>|t|)    \n",
       "(Intercept) 0.078428   0.037107   2.114   0.0348 *  \n",
       "Low         1.015585   0.001084 936.983   <2e-16 ***\n",
       "---\n",
       "Signif. codes:  0 '***' 0.001 '**' 0.01 '*' 0.05 '.' 0.1 ' ' 1\n",
       "\n",
       "Residual standard error: 0.7277 on 1230 degrees of freedom\n",
       "Multiple R-squared:  0.9986,\tAdjusted R-squared:  0.9986 \n",
       "F-statistic: 8.779e+05 on 1 and 1230 DF,  p-value: < 2.2e-16\n"
      ]
     },
     "metadata": {},
     "output_type": "display_data"
    }
   ],
   "source": [
    "# Check for significance of Low wrt response\n",
    "model = lm(data = newData, Adj.Close ~ Low)\n",
    "summary(model)"
   ]
  },
  {
   "cell_type": "code",
   "execution_count": 17,
   "id": "2c2ab2eb",
   "metadata": {
    "ExecuteTime": {
     "end_time": "2021-05-24T05:23:08.748681Z",
     "start_time": "2021-05-24T05:23:04.368Z"
    }
   },
   "outputs": [
    {
     "name": "stderr",
     "output_type": "stream",
     "text": [
      "Warning message in summary.lm(model):\n",
      "\"essentially perfect fit: summary may be unreliable\""
     ]
    },
    {
     "data": {
      "text/plain": [
       "\n",
       "Call:\n",
       "lm(formula = Adj.Close ~ Close, data = newData)\n",
       "\n",
       "Residuals:\n",
       "       Min         1Q     Median         3Q        Max \n",
       "-1.275e-13 -2.390e-16  1.610e-16  4.600e-16  3.997e-15 \n",
       "\n",
       "Coefficients:\n",
       "             Estimate Std. Error   t value Pr(>|t|)    \n",
       "(Intercept) 6.478e-15  1.927e-16 3.361e+01   <2e-16 ***\n",
       "Close       1.000e+00  5.532e-18 1.808e+17   <2e-16 ***\n",
       "---\n",
       "Signif. codes:  0 '***' 0.001 '**' 0.01 '*' 0.05 '.' 0.1 ' ' 1\n",
       "\n",
       "Residual standard error: 3.774e-15 on 1230 degrees of freedom\n",
       "Multiple R-squared:      1,\tAdjusted R-squared:      1 \n",
       "F-statistic: 3.268e+34 on 1 and 1230 DF,  p-value: < 2.2e-16\n"
      ]
     },
     "metadata": {},
     "output_type": "display_data"
    }
   ],
   "source": [
    "# Check for significance of Close wrt response\n",
    "model = lm(data = newData, Adj.Close ~ Close)\n",
    "summary(model)"
   ]
  },
  {
   "cell_type": "markdown",
   "id": "87b9e49c",
   "metadata": {},
   "source": [
    "Expected as unreliable because Adjusted close price is put considering the market behaviour wrt features and Close price.\n",
    "Hence we can neglect this feature."
   ]
  },
  {
   "cell_type": "code",
   "execution_count": 18,
   "id": "fbec76fd",
   "metadata": {
    "ExecuteTime": {
     "end_time": "2021-05-24T05:23:08.805996Z",
     "start_time": "2021-05-24T05:23:04.420Z"
    }
   },
   "outputs": [
    {
     "data": {
      "text/plain": [
       "\n",
       "Call:\n",
       "lm(formula = Adj.Close ~ Open + High + Low + Volume, data = newData)\n",
       "\n",
       "Residuals:\n",
       "     Min       1Q   Median       3Q      Max \n",
       "-1.51885 -0.15003 -0.00286  0.14879  1.75875 \n",
       "\n",
       "Coefficients:\n",
       "              Estimate Std. Error t value Pr(>|t|)    \n",
       "(Intercept)  4.467e-02  1.761e-02   2.536   0.0113 *  \n",
       "Open        -5.225e-01  1.622e-02 -32.215   <2e-16 ***\n",
       "High         8.342e-01  1.783e-02  46.797   <2e-16 ***\n",
       "Low          6.789e-01  1.778e-02  38.182   <2e-16 ***\n",
       "Volume       3.245e-08  2.827e-08   1.148   0.2513    \n",
       "---\n",
       "Signif. codes:  0 '***' 0.001 '**' 0.01 '*' 0.05 '.' 0.1 ' ' 1\n",
       "\n",
       "Residual standard error: 0.3356 on 1227 degrees of freedom\n",
       "Multiple R-squared:  0.9997,\tAdjusted R-squared:  0.9997 \n",
       "F-statistic: 1.033e+06 on 4 and 1227 DF,  p-value: < 2.2e-16\n"
      ]
     },
     "metadata": {},
     "output_type": "display_data"
    }
   ],
   "source": [
    "# Check for significance of all features wrt response\n",
    "model = lm(data = newData, Adj.Close ~ Open + High + Low + Volume)\n",
    "summary(model)"
   ]
  },
  {
   "cell_type": "markdown",
   "id": "20d14746",
   "metadata": {},
   "source": [
    "The model summary when we consider all the features tells us that our Adjusted Closing Price i.e, the price of the stock wrt market at the end of day is mainly considering Opening price, Lowest Price, Highest Price and the volume is not really significant. \n",
    "Keeping this wrt our data let us try to see the regression line and predict the price."
   ]
  },
  {
   "cell_type": "markdown",
   "id": "f99fee30",
   "metadata": {},
   "source": [
    "#### Fitting the Linear Regression Model for Multiple features"
   ]
  },
  {
   "cell_type": "code",
   "execution_count": 19,
   "id": "719aff29",
   "metadata": {
    "ExecuteTime": {
     "end_time": "2021-05-24T05:23:08.846394Z",
     "start_time": "2021-05-24T05:23:04.475Z"
    }
   },
   "outputs": [
    {
     "data": {
      "text/plain": [
       "\n",
       "Call:\n",
       "lm(formula = Adj.Close ~ Open + High + Low, data = newData)\n",
       "\n",
       "Residuals:\n",
       "     Min       1Q   Median       3Q      Max \n",
       "-1.50013 -0.15263 -0.00253  0.14758  1.69485 \n",
       "\n",
       "Coefficients:\n",
       "            Estimate Std. Error t value Pr(>|t|)    \n",
       "(Intercept)  0.04074    0.01728   2.358   0.0185 *  \n",
       "Open        -0.52808    0.01546 -34.152   <2e-16 ***\n",
       "High         0.84856    0.01268  66.941   <2e-16 ***\n",
       "Low          0.67016    0.01607  41.689   <2e-16 ***\n",
       "---\n",
       "Signif. codes:  0 '***' 0.001 '**' 0.01 '*' 0.05 '.' 0.1 ' ' 1\n",
       "\n",
       "Residual standard error: 0.3357 on 1228 degrees of freedom\n",
       "Multiple R-squared:  0.9997,\tAdjusted R-squared:  0.9997 \n",
       "F-statistic: 1.377e+06 on 3 and 1228 DF,  p-value: < 2.2e-16\n"
      ]
     },
     "metadata": {},
     "output_type": "display_data"
    }
   ],
   "source": [
    "# Linear Regression Model with Predictors(OPen, High, Low)\n",
    "# Response as Adjusted Closing Price(Adj.Close)\n",
    "model = lm(data = newData, Adj.Close ~ Open + High + Low)\n",
    "summary(model)"
   ]
  },
  {
   "cell_type": "markdown",
   "id": "7d301b6a",
   "metadata": {},
   "source": [
    "#### Plotting individual Predictors wrt Response and checking how well our model fits the data."
   ]
  },
  {
   "cell_type": "code",
   "execution_count": 20,
   "id": "8980af50",
   "metadata": {
    "ExecuteTime": {
     "end_time": "2021-05-24T05:23:10.606620Z",
     "start_time": "2021-05-24T05:23:04.509Z"
    },
    "scrolled": false
   },
   "outputs": [
    {
     "data": {
      "image/png": "[encoded data removed]",
      "text/plain": [
       "plot without title"
      ]
     },
     "metadata": {},
     "output_type": "display_data"
    }
   ],
   "source": [
    "# Opening Price vs Adjusted Price\n",
    "ggplot(data = newData, aes(x = Open, y = Adj.Close)) +\n",
    "   geom_point(size = 2, color = 'black') +\n",
    "   geom_smooth(method = lm, formula = y ~ x , color = 'red', se = FALSE) +\n",
    "   geom_point(aes(x = mean(Open), y = mean(Adj.Close)), size = 1.5, color = 'green') +\n",
    "   geom_text(aes(x = mean(Open), y = mean(Adj.Close)), label = 'mean sample', hjust = 0, vjust = -0.5, size = 6, color = 'green') +\n",
    "   labs(x = 'Opening Price', y = 'Adj.Price') + \n",
    "   ggtitle(\"Sample regression line\") +\n",
    "   theme(axis.text = element_text(size = 12),\n",
    "   axis.text.x = element_text(size = 14),\n",
    "   axis.text.y = element_text(size = 14),\n",
    "   axis.title = element_text(size = 14, face = \"bold\"))"
   ]
  },
  {
   "cell_type": "code",
   "execution_count": 21,
   "id": "0a6e2ef0",
   "metadata": {
    "ExecuteTime": {
     "end_time": "2021-05-24T05:23:11.103580Z",
     "start_time": "2021-05-24T05:23:04.530Z"
    }
   },
   "outputs": [
    {
     "data": {
      "image/png": "[encoded data removed]",
      "text/plain": [
       "plot without title"
      ]
     },
     "metadata": {},
     "output_type": "display_data"
    }
   ],
   "source": [
    "# Highest Price vs Adjusted Price\n",
    "ggplot(data = newData, aes(x = High, y = Adj.Close)) +\n",
    "   geom_point(size = 2, color = 'green') +\n",
    "   geom_smooth(method = lm, formula = y ~ x , color = 'red', se = FALSE) +\n",
    "   geom_point(aes(x = mean(Open), y = mean(Adj.Close)), size = 1.5, color = 'green') +\n",
    "   geom_text(aes(x = mean(Open), y = mean(Adj.Close)), label = 'mean sample', hjust = 0, vjust = -0.5, size = 6, color = 'green') +\n",
    "   labs(x = 'Highest Price', y = 'Adj.Price') + \n",
    "   ggtitle(\"Sample regression line\") +\n",
    "   theme(axis.text = element_text(size = 12),\n",
    "   axis.text.x = element_text(size = 14),\n",
    "   axis.text.y = element_text(size = 14),\n",
    "   axis.title = element_text(size = 14, face = \"bold\"))"
   ]
  },
  {
   "cell_type": "code",
   "execution_count": 22,
   "id": "0fc4896f",
   "metadata": {
    "ExecuteTime": {
     "end_time": "2021-05-24T05:23:11.512391Z",
     "start_time": "2021-05-24T05:23:04.551Z"
    }
   },
   "outputs": [
    {
     "data": {
      "image/png": "[encoded data removed]",
      "text/plain": [
       "plot without title"
      ]
     },
     "metadata": {},
     "output_type": "display_data"
    }
   ],
   "source": [
    "# Lowest Price vs Adjusted Price\n",
    "ggplot(data = newData, aes(x = Low, y = Adj.Close)) +\n",
    "   geom_point(size = 2, color = 'blue') +\n",
    "   geom_smooth(method = lm, formula = y ~ x , color = 'red', se = FALSE) +\n",
    "   geom_point(aes(x = mean(Open), y = mean(Adj.Close)), size = 1.5, color = 'green') +\n",
    "   geom_text(aes(x = mean(Open), y = mean(Adj.Close)), label = 'mean sample', hjust = 0, vjust = -0.5, size = 6, color = 'green') +\n",
    "   labs(x = 'Lowest Price', y = 'Adj.Price') + \n",
    "   ggtitle(\"Sample regression line\") +\n",
    "   theme(axis.text = element_text(size = 12),\n",
    "   axis.text.x = element_text(size = 14),\n",
    "   axis.text.y = element_text(size = 14),\n",
    "   axis.title = element_text(size = 14, face = \"bold\"))"
   ]
  },
  {
   "cell_type": "code",
   "execution_count": 23,
   "id": "ca40c4de",
   "metadata": {
    "ExecuteTime": {
     "end_time": "2021-05-24T05:23:11.568243Z",
     "start_time": "2021-05-24T05:23:04.569Z"
    }
   },
   "outputs": [
    {
     "data": {
      "text/html": [
       "<table class=\"dataframe\">\n",
       "<caption>A data.frame: 6 × 3</caption>\n",
       "<thead>\n",
       "\t<tr><th></th><th scope=col>Open</th><th scope=col>High</th><th scope=col>Low</th></tr>\n",
       "\t<tr><th></th><th scope=col>&lt;dbl&gt;</th><th scope=col>&lt;dbl&gt;</th><th scope=col>&lt;dbl&gt;</th></tr>\n",
       "</thead>\n",
       "<tbody>\n",
       "\t<tr><th scope=row>1</th><td>40.00270</td><td>40.30049</td><td>39.35749</td></tr>\n",
       "\t<tr><th scope=row>2</th><td>40.15159</td><td>40.99532</td><td>39.70491</td></tr>\n",
       "\t<tr><th scope=row>3</th><td>40.05233</td><td>40.35012</td><td>39.80418</td></tr>\n",
       "\t<tr><th scope=row>4</th><td>40.00270</td><td>42.28573</td><td>39.90344</td></tr>\n",
       "\t<tr><th scope=row>5</th><td>40.89606</td><td>41.19385</td><td>39.55602</td></tr>\n",
       "\t<tr><th scope=row>6</th><td>39.90344</td><td>40.35012</td><td>39.65528</td></tr>\n",
       "</tbody>\n",
       "</table>\n"
      ],
      "text/latex": [
       "A data.frame: 6 × 3\n",
       "\\begin{tabular}{r|lll}\n",
       "  & Open & High & Low\\\\\n",
       "  & <dbl> & <dbl> & <dbl>\\\\\n",
       "\\hline\n",
       "\t1 & 40.00270 & 40.30049 & 39.35749\\\\\n",
       "\t2 & 40.15159 & 40.99532 & 39.70491\\\\\n",
       "\t3 & 40.05233 & 40.35012 & 39.80418\\\\\n",
       "\t4 & 40.00270 & 42.28573 & 39.90344\\\\\n",
       "\t5 & 40.89606 & 41.19385 & 39.55602\\\\\n",
       "\t6 & 39.90344 & 40.35012 & 39.65528\\\\\n",
       "\\end{tabular}\n"
      ],
      "text/markdown": [
       "\n",
       "A data.frame: 6 × 3\n",
       "\n",
       "| <!--/--> | Open &lt;dbl&gt; | High &lt;dbl&gt; | Low &lt;dbl&gt; |\n",
       "|---|---|---|---|\n",
       "| 1 | 40.00270 | 40.30049 | 39.35749 |\n",
       "| 2 | 40.15159 | 40.99532 | 39.70491 |\n",
       "| 3 | 40.05233 | 40.35012 | 39.80418 |\n",
       "| 4 | 40.00270 | 42.28573 | 39.90344 |\n",
       "| 5 | 40.89606 | 41.19385 | 39.55602 |\n",
       "| 6 | 39.90344 | 40.35012 | 39.65528 |\n",
       "\n"
      ],
      "text/plain": [
       "  Open     High     Low     \n",
       "1 40.00270 40.30049 39.35749\n",
       "2 40.15159 40.99532 39.70491\n",
       "3 40.05233 40.35012 39.80418\n",
       "4 40.00270 42.28573 39.90344\n",
       "5 40.89606 41.19385 39.55602\n",
       "6 39.90344 40.35012 39.65528"
      ]
     },
     "metadata": {},
     "output_type": "display_data"
    },
    {
     "name": "stdout",
     "output_type": "stream",
     "text": [
      "'data.frame':\t1232 obs. of  3 variables:\n",
      " $ Open: num  40 40.2 40.1 40 40.9 ...\n",
      " $ High: num  40.3 41 40.4 42.3 41.2 ...\n",
      " $ Low : num  39.4 39.7 39.8 39.9 39.6 ...\n"
     ]
    }
   ],
   "source": [
    "predictors = newData[, 1:3]\n",
    "head(predictors)\n",
    "str(predictors)"
   ]
  },
  {
   "cell_type": "code",
   "execution_count": 24,
   "id": "26e4d821",
   "metadata": {
    "ExecuteTime": {
     "end_time": "2021-05-24T05:23:11.618121Z",
     "start_time": "2021-05-24T05:23:04.584Z"
    }
   },
   "outputs": [
    {
     "data": {
      "text/html": [
       "<style>\n",
       ".list-inline {list-style: none; margin:0; padding: 0}\n",
       ".list-inline>li {display: inline-block}\n",
       ".list-inline>li:not(:last-child)::after {content: \"\\00b7\"; padding: 0 .5ex}\n",
       "</style>\n",
       "<ol class=list-inline><li>39.804176</li><li>40.39975</li><li>39.903439</li><li>40.896061</li><li>39.903439</li><li>39.853806</li></ol>\n"
      ],
      "text/latex": [
       "\\begin{enumerate*}\n",
       "\\item 39.804176\n",
       "\\item 40.39975\n",
       "\\item 39.903439\n",
       "\\item 40.896061\n",
       "\\item 39.903439\n",
       "\\item 39.853806\n",
       "\\end{enumerate*}\n"
      ],
      "text/markdown": [
       "1. 39.804176\n",
       "2. 40.39975\n",
       "3. 39.903439\n",
       "4. 40.896061\n",
       "5. 39.903439\n",
       "6. 39.853806\n",
       "\n",
       "\n"
      ],
      "text/plain": [
       "[1] 39.80418 40.39975 39.90344 40.89606 39.90344 39.85381"
      ]
     },
     "metadata": {},
     "output_type": "display_data"
    },
    {
     "name": "stdout",
     "output_type": "stream",
     "text": [
      " num [1:1232] 39.8 40.4 39.9 40.9 39.9 ...\n"
     ]
    }
   ],
   "source": [
    "response = newData[, 4]\n",
    "head(response)\n",
    "str(response)"
   ]
  },
  {
   "cell_type": "code",
   "execution_count": 25,
   "id": "9d185b32",
   "metadata": {
    "ExecuteTime": {
     "end_time": "2021-05-24T05:23:11.662997Z",
     "start_time": "2021-05-24T05:23:04.607Z"
    }
   },
   "outputs": [
    {
     "name": "stdout",
     "output_type": "stream",
     "text": [
      "        1         2         3         4         5         6         7         8 \n",
      "39.489045 40.232851 39.804296 41.539503 39.908389 39.783140 38.918205 39.972913 \n",
      "        9        10        11        12        13        14        15        16 \n",
      "38.119245 38.317005 37.582764 36.632149 37.020236 36.207205 36.954066 35.726747 \n",
      "       17        18        19        20        21        22        23        24 \n",
      "36.025351 38.146643 37.986751 39.183517 38.145423 38.196618 38.586696 37.770026 \n",
      "       25        26        27        28        29        30        31        32 \n",
      "38.556139 40.174243 39.511101 38.695687 39.999795 36.941412 38.067889 37.740019 \n",
      "       33        34        35        36        37        38        39        40 \n",
      "38.818038 39.072017 43.704815 42.140770 41.278188 40.352881 39.675954 41.194631 \n",
      "       41        42        43        44        45        46        47        48 \n",
      "40.540148 39.952148 40.052284 39.229111 43.267625 42.414826 38.539261 40.175729 \n",
      "       49        50        51        52        53        54        55        56 \n",
      "40.234650 41.852597 41.006502 40.970340 41.599361 40.606669 41.446260 40.840198 \n",
      "       57        58        59        60        61        62        63        64 \n",
      "40.231047 39.987211 40.749819 39.984312 39.833016 38.961225 38.700224 38.948765 \n",
      "       65        66        67        68        69        70        71        72 \n",
      "38.473911 39.929511 40.519346 40.225989 41.262247 40.909810 40.800629 40.216782 \n",
      "       73        74        75        76        77        78        79        80 \n",
      "39.382405 38.835974 39.919595 39.723477 39.709377 39.643946 39.979259 39.791997 \n",
      "       81        82        83        84        85        86        87        88 \n",
      "39.628591 42.244603 41.612918 43.224870 43.664535 42.655005 42.705265 42.132076 \n",
      "       89        90        91        92        93        94        95        96 \n",
      "41.527817 46.492502 45.187786 45.417877 43.936575 45.969485 42.760632 42.310645 \n",
      "       97        98        99       100       101       102       103       104 \n",
      "43.924083 44.802220 50.341188 51.595435 52.281995 51.420150 48.707308 51.032162 \n",
      "      105       106       107       108       109       110       111       112 \n",
      "53.224390 54.284449 54.797974 55.731036 55.989169 54.669474 53.584366 56.143618 \n",
      "      113       114       115       116       117       118       119       120 \n",
      "55.324700 54.201083 54.010027 50.546363 50.051064 46.511637 47.582835 47.140530 \n",
      "      121       122       123       124       125       126       127       128 \n",
      "43.202423 46.926124 44.245286 41.888362 41.412289 41.607508 41.569193 39.721088 \n",
      "      129       130       131       132       133       134       135       136 \n",
      "42.150069 41.708187 41.949514 48.730387 50.540375 49.696241 54.050004 53.177799 \n",
      "      137       138       139       140       141       142       143       144 \n",
      "55.020041 55.659462 56.787707 54.541997 59.176304 61.856885 62.481202 61.056898 \n",
      "      145       146       147       148       149       150       151       152 \n",
      "58.844415 58.626404 58.084319 61.623161 59.247502 59.821788 57.505564 57.777410 \n",
      "      153       154       155       156       157       158       159       160 \n",
      "54.320022 54.491188 55.654054 55.698168 57.188476 58.383277 59.699400 58.881123 \n",
      "      161       162       163       164       165       166       167       168 \n",
      "59.010560 57.600291 58.756001 61.687752 60.340948 59.305909 59.157158 58.013521 \n",
      "      169       170       171       172       173       174       175       176 \n",
      "60.416060 59.606158 60.287787 59.078300 58.955952 59.793775 63.179675 62.040256 \n",
      "      177       178       179       180       181       182       183       184 \n",
      "60.199950 58.442071 56.195781 57.522178 57.407232 56.447412 55.382559 56.649839 \n",
      "      185       186       187       188       189       190       191       192 \n",
      "58.226607 56.874900 56.041976 56.616577 53.364902 54.033372 54.003751 55.225274 \n",
      "      193       194       195       196       197       198       199       200 \n",
      "55.175241 54.480211 53.852999 53.431656 53.390443 54.867553 54.421803 53.181124 \n",
      "      201       202       203       204       205       206       207       208 \n",
      "53.799294 52.839311 52.281480 51.406437 51.344617 51.795420 51.259836 52.781062 \n",
      "      209       210       211       212       213       214       215       216 \n",
      "51.914906 51.748250 51.357624 53.941508 53.550046 53.233153 51.822176 52.138136 \n",
      "      217       218       219       220       221       222       223       224 \n",
      "50.847158 51.299603 52.013045 55.566243 56.958388 55.199643 55.782361 55.483952 \n",
      "      225       226       227       228       229       230       231       232 \n",
      "57.434150 55.162742 55.696876 56.967215 56.684703 55.233805 58.139215 58.524112 \n",
      "      233       234       235       236       237       238       239       240 \n",
      "59.558374 58.046939 56.429860 55.842411 56.461515 55.513604 54.361431 54.869936 \n",
      "      241       242       243       244       245       246       247       248 \n",
      "53.698606 53.071585 54.841150 54.863078 54.554527 54.072622 54.103531 53.703342 \n",
      "      249       250       251       252       253       254       255       256 \n",
      "53.319221 52.684018 51.736306 52.055869 49.255544 48.368910 48.240604 49.718844 \n",
      "      257       258       259       260       261       262       263       264 \n",
      "48.125659 47.127524 46.405387 46.246328 45.927474 46.820583 48.169895 47.147192 \n",
      "      265       266       267       268       269       270       271       272 \n",
      "46.678172 46.722442 46.159750 45.469073 44.834963 44.370607 45.648153 44.753439 \n",
      "      273       274       275       276       277       278       279       280 \n",
      "44.877080 45.649534 47.017244 45.203144 43.938221 44.246772 44.717479 43.787667 \n",
      "      281       282       283       284       285       286       287       288 \n",
      "45.183445 45.250351 46.647190 47.007488 47.179712 47.415278 48.811763 48.369882 \n",
      "      289       290       291       292       293       294       295       296 \n",
      "48.018473 46.534631 46.440645 54.273714 53.683918 53.422925 51.579560 51.327779 \n",
      "      297       298       299       300       301       302       303       304 \n",
      "49.934700 52.444975 48.948089 48.513739 48.492783 47.735580 47.402819 46.540230 \n",
      "      305       306       307       308       309       310       311       312 \n",
      "46.506971 46.411732 45.629383 43.331576 41.255034 40.338586 42.982680 43.725614 \n",
      "      313       314       315       316       317       318       319       320 \n",
      "44.120978 43.052677 42.632786 47.976288 44.586748 45.074259 46.198385 48.947507 \n",
      "      321       322       323       324       325       326       327       328 \n",
      "47.305933 47.997476 48.671348 47.159652 47.481799 48.077748 51.561593 50.015997 \n",
      "      329       330       331       332       333       334       335       336 \n",
      "50.371046 51.939828 50.019990 48.750364 48.337133 50.616230 53.326944 51.182465 \n",
      "      337       338       339       340       341       342       343       344 \n",
      "50.330542 48.711854 46.459412 46.731649 47.068919 46.714844 47.106723 47.448537 \n",
      "      345       346       347       348       349       350       351       352 \n",
      "46.724243 47.256026 50.391516 48.872907 50.204517 49.457071 48.824485 48.570313 \n",
      "      353       354       355       356       357       358       359       360 \n",
      "47.876221 47.552116 47.175790 46.625753 48.205894 48.077940 48.351236 46.210719 \n",
      "      361       362       363       364       365       366       367       368 \n",
      "45.872511 47.526579 47.262220 47.902661 47.338351 47.567066 47.752991 49.226486 \n",
      "      369       370       371       372       373       374       375       376 \n",
      "48.702628 47.346361 47.320315 46.657651 46.636896 46.385410 46.819161 46.387971 \n",
      "      377       378       379       380       381       382       383       384 \n",
      "46.771831 47.794123 47.178464 47.239289 48.275235 48.390161 48.280359 52.046996 \n",
      "      385       386       387       388       389       390       391       392 \n",
      "52.490126 50.520534 51.215209 52.620330 52.829029 52.049663 51.365853 49.713659 \n",
      "      393       394       395       396       397       398       399       400 \n",
      "48.832668 48.071106 46.900575 51.783281 51.936288 53.266801 53.450563 52.419155 \n",
      "      401       402       403       404       405       406       407       408 \n",
      "54.870531 56.751237 56.804667 57.321296 57.319480 60.297310 58.689594 59.815362 \n",
      "      409       410       411       412       413       414       415       416 \n",
      "59.469584 58.703285 61.915279 62.670360 61.627473 61.833608 60.678514 60.589871 \n",
      "      417       418       419       420       421       422       423       424 \n",
      "58.463248 57.204586 55.968075 56.916802 58.567083 57.872534 59.786491 58.096518 \n",
      "      425       426       427       428       429       430       431       432 \n",
      "56.038565 54.456114 54.078806 56.957575 53.805651 54.325291 52.547671 54.064794 \n",
      "      433       434       435       436       437       438       439       440 \n",
      "55.331109 56.498847 60.223941 67.188400 65.506730 64.267139 60.610591 61.102475 \n",
      "      441       442       443       444       445       446       447       448 \n",
      "60.004765 62.381345 63.295527 62.790573 63.544448 64.758702 62.470968 60.272664 \n",
      "      449       450       451       452       453       454       455       456 \n",
      "58.114315 55.273921 53.978831 54.214097 53.421077 55.627713 54.738029 57.778496 \n",
      "      457       458       459       460       461       462       463       464 \n",
      "57.204037 53.994109 53.389187 53.766696 51.979367 49.426692 51.056269 52.543521 \n",
      "      465       466       467       468       469       470       471       472 \n",
      "50.481421 52.896368 53.328178 52.324985 52.893359 53.582026 53.883993 52.892253 \n",
      "      473       474       475       476       477       478       479       480 \n",
      "52.740382 54.170018 54.796284 53.123171 53.817333 54.072805 54.624560 55.806217 \n",
      "      481       482       483       484       485       486       487       488 \n",
      "56.118523 54.358901 53.075617 52.093389 52.034743 52.120346 50.827035 49.261519 \n",
      "      489       490       491       492       493       494       495       496 \n",
      "49.626793 49.320526 48.414394 50.755023 51.009660 48.670577 47.073919 47.061495 \n",
      "      497       498       499       500       501       502       503       504 \n",
      "44.956608 47.548049 45.878215 44.383702 44.731724 44.976821 43.583217 44.409039 \n",
      "      505       506       507       508       509       510       511       512 \n",
      "45.655144 45.495654 43.398745 42.005274 38.740170 36.517835 34.568617 35.212141 \n",
      "      513       514       515       516       517       518       519       520 \n",
      "37.421960 35.732823 36.304630 40.300497 39.803337 40.158235 39.524149 37.645615 \n",
      "      521       522       523       524       525       526       527       528 \n",
      "36.390393 36.438269 36.945424 36.449394 36.104490 34.867302 33.617331 33.564882 \n",
      "      529       530       531       532       533       534       535       536 \n",
      "34.889648 33.982995 33.887404 33.817664 34.026527 34.118132 35.041355 36.583751 \n",
      "      537       538       539       540       541       542       543       544 \n",
      "36.892423 36.010163 34.910442 33.427964 33.802354 33.342556 32.398178 32.938648 \n",
      "      545       546       547       548       549       550       551       552 \n",
      "33.866809 35.921409 35.849174 34.765317 35.257715 35.833869 35.957714 36.390005 \n",
      "      553       554       555       556       557       558       559       560 \n",
      "35.935331 36.683754 36.245073 35.809117 35.857189 36.507814 35.525026 35.066142 \n",
      "      561       562       563       564       565       566       567       568 \n",
      "34.214275 33.979366 34.316259 34.776057 35.420680 34.649321 35.185410 34.636216 \n",
      "      569       570       571       572       573       574       575       576 \n",
      "34.176779 34.477954 34.559179 35.486948 35.459118 34.252321 33.154812 33.283749 \n",
      "      577       578       579       580       581       582       583       584 \n",
      "33.662873 33.055032 32.945039 32.124670 32.561536 31.966796 31.389509 29.717627 \n",
      "      585       586       587       588       589       590       591       592 \n",
      "26.720910 25.969602 26.685783 26.524119 26.037169 23.622278 22.053128 23.403590 \n",
      "      593       594       595       596       597       598       599       600 \n",
      "23.518160 23.002279 22.263844 22.303904 24.394545 23.468985 24.022199 27.897049 \n",
      "      601       602       603       604       605       606       607       608 \n",
      "27.109935 26.608421 25.041087 25.228641 24.400453 24.721127 25.980467 25.302402 \n",
      "      609       610       611       612       613       614       615       616 \n",
      "25.288390 25.728338 26.939638 27.287498 26.998675 26.071068 28.074097 28.500843 \n",
      "      617       618       619       620       621       622       623       624 \n",
      "28.149939 28.513398 27.459773 27.125798 26.504462 26.159200 25.704300 26.462552 \n",
      "      625       626       627       628       629       630       631       632 \n",
      "26.597685 26.476955 25.673356 26.122772 25.539325 25.609974 24.678895 24.609155 \n",
      "      633       634       635       636       637       638       639       640 \n",
      "25.622169 25.542406 24.229833 23.762381 23.414200 23.577163 24.657744 25.237755 \n",
      "      641       642       643       644       645       646       647       648 \n",
      "24.616258 24.905243 24.914163 26.395928 26.729156 25.848711 25.070965 24.437985 \n",
      "      649       650       651       652       653       654       655       656 \n",
      "24.712047 25.188421 24.922012 25.383076 26.186123 25.583571 24.860997 25.239768 \n",
      "      657       658       659       660       661       662       663       664 \n",
      "24.951693 24.768487 24.985004 24.737899 24.204890 24.522288 24.741175 24.695276 \n",
      "      665       666       667       668       669       670       671       672 \n",
      "23.957231 23.246304 22.300822 21.747607 20.491439 20.385663 19.193431 19.805849 \n",
      "      673       674       675       676       677       678       679       680 \n",
      "20.043678 20.764756 19.889440 19.237515 17.722045 16.731056 17.558694 17.002394 \n",
      "      681       682       683       684       685       686       687       688 \n",
      "16.176380 16.456639 16.511814 16.852697 16.422775 16.916242 17.601121 18.155279 \n",
      "      689       690       691       692       693       694       695       696 \n",
      "19.899199 20.185526 18.754947 20.144524 19.096025 20.003423 20.849452 22.205553 \n",
      "      697       698       699       700       701       702       703       704 \n",
      "22.079924 20.828173 21.460958 21.951182 21.225886 21.307466 20.199180 20.661347 \n",
      "      705       706       707       708       709       710       711       712 \n",
      "19.663806 19.836276 19.688038 19.378098 19.586055 18.915738 19.711326 19.458772 \n",
      "      713       714       715       716       717       718       719       720 \n",
      "19.063977 18.729450 18.225214 18.217203 18.627274 17.634662 17.673815 17.460927 \n",
      "      721       722       723       724       725       726       727       728 \n",
      "17.704207 18.271826 18.161117 17.714781 17.553082 17.618086 17.069961 16.695375 \n",
      "      729       730       731       732       733       734       735       736 \n",
      "16.980177 16.438797 16.259616 16.052568 15.698743 15.802899 15.435061 15.144975 \n",
      "      737       738       739       740       741       742       743       744 \n",
      "15.256235 15.040624 14.182010 14.498500 13.737685 13.496222 14.132835 14.393241 \n",
      "      745       746       747       748       749       750       751       752 \n",
      "14.448969 14.667303 15.509859 16.907642 17.244410 16.806636 16.569714 15.800335 \n",
      "      753       754       755       756       757       758       759       760 \n",
      "15.387346 15.489134 14.857417 14.415104 14.173606 14.205494 14.424381 13.953295 \n",
      "      761       762       763       764       765       766       767       768 \n",
      "13.670830 13.702717 13.293360 12.954098 12.182155 13.377112 13.343248 13.037690 \n",
      "      769       770       771       772       773       774       775       776 \n",
      "12.947546 13.057346 13.098509 12.775610 12.686887 12.777284 12.428888 12.187639 \n",
      "      777       778       779       780       781       782       783       784 \n",
      "12.026685 12.045597 11.822454 11.761777 12.068796 11.858473 11.824680 11.705402 \n",
      "      785       786       787       788       789       790       791       792 \n",
      "11.406712 11.121829 10.814017 11.229061 10.923417 11.147688 11.059193 10.720989 \n",
      "      793       794       795       796       797       798       799       800 \n",
      "10.616638 11.883750 11.006799 10.685107  9.665006 10.212288  9.899711  9.477787 \n",
      "      801       802       803       804       805       806       807       808 \n",
      " 9.982199  9.611551  9.325980  9.054475  9.194766  9.109359  8.776364  7.957044 \n",
      "      809       810       811       812       813       814       815       816 \n",
      " 8.200402  8.490810  8.641379  8.708986  8.273659  8.576536  8.078533  7.997033 \n",
      "      817       818       819       820       821       822       823       824 \n",
      " 7.924316  8.047526  8.609396  8.995749  8.883432  8.894247  9.572450  8.912709 \n",
      "      825       826       827       828       829       830       831       832 \n",
      " 8.566871  8.149488  8.476753  8.375161  8.558347  8.278419  8.195024  8.106010 \n",
      "      833       834       835       836       837       838       839       840 \n",
      " 7.698910  7.517455  7.364676  7.648716  7.136122  6.737846  6.935570  6.342383 \n",
      "      841       842       843       844       845       846       847       848 \n",
      " 6.483991  6.151912  6.294319  6.183643  6.597540  6.655565  6.541029  6.449907 \n",
      "      849       851       852       853       854       855       856       857 \n",
      " 6.289187  6.717449  7.374341  7.095272  7.648916  8.370113  8.253397  7.610219 \n",
      "      858       859       860       861       862       863       864       865 \n",
      " 7.903692  7.531663  7.879293  7.687244  7.435324  7.313203  8.561641 10.291629 \n",
      "      866       867       868       869       870       871       872       873 \n",
      "10.287443  8.875420  9.062466  8.913119  8.663605  8.814658  8.551139  8.338733 \n",
      "      874       875       876       877       878       879       880       881 \n",
      " 8.392702  7.874382  8.509748  8.187667  7.962261  8.007815  7.464063  7.168917 \n",
      "      882       883       884       885       886       887       888       889 \n",
      " 7.390165  7.398255  7.546526  7.723152  7.547686  7.381907  7.339330  7.169754 \n",
      "      890       891       892       893       894       895       896       897 \n",
      " 7.101396  6.782570  7.079942  7.025026  7.049646  7.078236  7.134288  7.421856 \n",
      "      898       899       900       901       902       903       904       905 \n",
      " 7.031728  7.112360  6.977278  7.074408  7.181412  7.065488  7.252352  7.475501 \n",
      "      906       907       908       909       910       911       912       913 \n",
      " 7.854025  8.001484  7.982184  7.823832  7.880824  7.842548  7.915097  7.871975 \n",
      "      914       915       916       917       918       919       920       921 \n",
      " 7.591030  7.389517  7.132023  7.066617  6.606735  6.812802  6.591982  6.826750 \n",
      "      922       923       924       925       926       927       928       929 \n",
      " 7.018745  6.767999  6.606585  6.435272  6.515541  6.383333  6.276037  6.060686 \n",
      "      930       931       932       933       934       935       936       937 \n",
      " 6.009805  6.196858  6.176824  5.968656  5.941376  5.820456  5.481636  5.494384 \n",
      "      938       939       940       941       942       943       944       945 \n",
      " 5.028857  4.976562  4.955439  4.722922  4.607557  4.150438  3.911233  3.932822 \n",
      "      946       947       948       949       950       951       952       953 \n",
      " 3.841012  4.014519  3.891673  3.767555  3.735864  3.834817  3.555623  3.445888 \n",
      "      954       955       956       957       958       959       960       961 \n",
      " 3.394605  3.542694  3.522518  3.653519  3.841629  4.035130  4.166429  4.348604 \n",
      "      962       963       964       965       966       967       968       969 \n",
      " 4.583443  4.737785  5.044778  5.202261  5.568471  5.715314  5.824024  6.051909 \n",
      "      970       971       972       973       974       975       976       977 \n",
      " 6.128752  6.543437  7.074234  7.320432  7.291575  6.707699  6.380790  6.102245 \n",
      "      978       979       980       981       982       983       984       985 \n",
      " 5.766598  5.621201  5.643004  6.012543  5.929165  5.705109  5.902288  5.748665 \n",
      "      986       987       988       989       990       991       992       993 \n",
      " 5.588309  5.435562  5.464042  5.577708  5.586927  5.652625  5.611650  5.585222 \n",
      "      994       995       996       997       998       999      1000      1001 \n",
      " 5.688540  6.007295  6.216275  6.606631  6.538149  7.000036  7.768707  8.446069 \n",
      "     1002      1003      1004      1005      1006      1007      1008      1009 \n",
      " 9.064349  8.860272  8.203556  7.797396  7.411049  7.050924  7.291782  7.563426 \n",
      "     1010      1011      1012      1013      1014      1015      1016      1017 \n",
      " 8.134211  8.282507  8.484123  8.870755  9.293302  9.686098 10.650484 10.645844 \n",
      "     1018      1019      1020      1021      1022      1023      1024      1025 \n",
      "11.360165 11.590695 10.630607 10.105572  9.881793  9.949365 10.406477 10.033241 \n",
      "     1026      1027      1028      1029      1030      1031      1032      1033 \n",
      " 9.956994 10.100821  9.712470  9.457085  9.261333  9.107346  9.063167  9.034655 \n",
      "     1034      1035      1036      1037      1038      1039      1040      1041 \n",
      " 8.765581  8.776656  8.837170  8.676716  8.943636  8.885398  8.814024  8.722459 \n",
      "     1042      1043      1044      1045      1046      1047      1048      1049 \n",
      " 8.815477  8.822406  8.961885  9.203744  9.683588  9.523412  9.618719  9.176399 \n",
      "     1050      1051      1052      1053      1054      1055      1056      1057 \n",
      " 8.764121  9.118713  8.896700  8.842108  8.807543  8.942372  8.960543  8.950604 \n",
      "     1058      1059      1060      1061      1062      1063      1064      1065 \n",
      " 8.974277  8.948275  8.657488  8.369471  8.423707  8.659454  8.672344  8.779783 \n",
      "     1066      1067      1068      1069      1070      1071      1072      1073 \n",
      " 8.508017  8.152667  8.429208  8.494148  8.633231  8.588183  8.537159  8.505980 \n",
      "     1074      1075      1076      1077      1078      1079      1080      1081 \n",
      " 8.319512  8.170333  7.929376  7.657532  7.341074  7.232760  7.927443  8.094066 \n",
      "     1082      1083      1084      1085      1086      1087      1088      1089 \n",
      " 8.031495  7.909855  7.977487  7.824188  7.788572  7.914773  7.881920  7.838909 \n",
      "     1090      1091      1092      1093      1094      1095      1096      1097 \n",
      " 7.721927  7.663436  7.619004  7.526998  7.379065  6.828890  7.532532  7.464569 \n",
      "     1098      1099      1100      1101      1102      1103      1104      1105 \n",
      " 8.163540  7.998129  7.975119  7.798258  7.614118  7.674471  7.577010  7.664117 \n",
      "     1106      1107      1108      1109      1110      1111      1112      1113 \n",
      " 7.621222  7.691617  7.905704  7.700946  7.620385  7.520375  7.464362  7.550023 \n",
      "     1115      1116      1117      1118      1119      1120      1121      1122 \n",
      " 7.691332  7.620347  7.629818  7.691151  7.534583  7.616454  7.189994  7.626360 \n",
      "     1123      1124      1125      1126      1127      1128      1129      1130 \n",
      " 8.112035  8.779919  9.768756 10.140240 10.075831  9.356472  9.026351  9.127237 \n",
      "     1131      1132      1133      1134      1135      1136      1137      1138 \n",
      " 9.033376  9.134192  9.185982  8.856775  9.198106  9.040481  8.710958  8.588136 \n",
      "     1139      1140      1141      1142      1143      1144      1145      1146 \n",
      " 8.237270  8.718814  8.879800  8.903985  8.754507  8.775314  8.607995  8.862829 \n",
      "     1147      1148      1149      1150      1151      1152      1153      1154 \n",
      " 9.009569  9.246249  9.504878  9.883687  9.857536  9.459017  9.194830  9.174369 \n",
      "     1155      1156      1157      1158      1159      1160      1161      1162 \n",
      " 9.251110  9.051120  9.299492  8.987018  8.788022  8.886501  8.651370  8.565126 \n",
      "     1163      1164      1165      1166      1167      1168      1169      1170 \n",
      " 8.455864  8.373228  8.483326  8.709861  9.124428  9.521201  9.639083  9.676088 \n",
      "     1171      1172      1173      1174      1175      1176      1177      1178 \n",
      " 9.683050  9.405704  9.214247  8.932932  8.776941  8.878294  8.919860  9.120102 \n",
      "     1179      1180      1181      1182      1183      1184      1185      1186 \n",
      " 9.257109  9.498319  9.381558  9.537835  9.237368  9.510387  9.596877  9.464858 \n",
      "     1187      1188      1189      1190      1191      1192      1193      1194 \n",
      " 9.559146  9.639558 10.132500 10.497153 11.223819 11.858993 11.582178 10.719764 \n",
      "     1195      1196      1197      1198      1199      1200      1201      1202 \n",
      "10.194729 10.400761  9.347110  8.982645  8.873273  9.186384  9.290728  9.012364 \n",
      "     1203      1204      1205      1206      1207      1208      1209      1210 \n",
      " 8.717802  8.753930  8.740527  8.918952  9.106115  9.241306  9.353007  9.201208 \n",
      "     1211      1212      1213      1214      1215      1216      1217      1218 \n",
      " 9.075306  8.890283  8.591160  8.599457  8.493848  8.492973  8.229187  8.158091 \n",
      "     1219      1220      1221      1222      1223      1224      1225      1226 \n",
      " 8.149716  8.175685  8.546521  8.580028  8.661387  8.728403  8.858560  8.845384 \n",
      "     1227      1228      1229      1230      1231      1232      1233      1234 \n",
      " 8.626024  8.722823  8.352799  8.516179  8.834485  9.211873  9.146680  9.241592 \n"
     ]
    }
   ],
   "source": [
    "print(model$fitted)"
   ]
  },
  {
   "cell_type": "code",
   "execution_count": 26,
   "id": "cc37d898",
   "metadata": {
    "ExecuteTime": {
     "end_time": "2021-05-24T05:23:11.710883Z",
     "start_time": "2021-05-24T05:23:04.623Z"
    }
   },
   "outputs": [],
   "source": [
    "# Creating new cols of Predicted Price and Residuals \n",
    "newData$Price_Predicted = predict(model)\n",
    "newData$residuals = residuals(model)"
   ]
  },
  {
   "cell_type": "code",
   "execution_count": 27,
   "id": "e9b357c7",
   "metadata": {
    "ExecuteTime": {
     "end_time": "2021-05-24T05:23:15.241905Z",
     "start_time": "2021-05-24T05:23:04.643Z"
    }
   },
   "outputs": [
    {
     "data": {
      "image/png": "[encoded data removed]",
      "text/plain": [
       "plot without title"
      ]
     },
     "metadata": {},
     "output_type": "display_data"
    }
   ],
   "source": [
    "# Plotting Residual Graph\n",
    "ggplot(data = newData, aes(x = Open, y = Adj.Close)) +\n",
    "   geom_point(size = 1, color = 'blue') +\n",
    "   geom_smooth(method = lm, formula = y ~ x, se = FALSE, color = 'black') +\n",
    "   geom_segment(aes(xend = Open, yend = Price_Predicted), alpha = 0.2) + \n",
    "   geom_point(aes(color = abs(residuals), size = abs(residuals))) +\n",
    "   scale_color_continuous(low = \"green\", high = \"red\") + \n",
    "   guides(color = FALSE, size = FALSE) + \n",
    "   labs(x = 'Open', y = 'Adj.Close') + \n",
    "   ggtitle(\"Sample regression line\") +\n",
    "   theme(axis.text = element_text(size = 12),\n",
    "   axis.text.x = element_text(size = 14),\n",
    "   axis.text.y = element_text(size = 14),\n",
    "   axis.title = element_text(size = 14, face = \"bold\"))"
   ]
  },
  {
   "cell_type": "markdown",
   "id": "c3d2a378",
   "metadata": {},
   "source": [
    "We can see the actual Opening price and Predicted price with very less residual errors, there few data points with near the opening price of 40-60 Rupees with some residuals."
   ]
  },
  {
   "cell_type": "code",
   "execution_count": 28,
   "id": "bd6a75f8",
   "metadata": {
    "ExecuteTime": {
     "end_time": "2021-05-24T05:23:15.509168Z",
     "start_time": "2021-05-24T05:23:04.679Z"
    }
   },
   "outputs": [
    {
     "data": {
      "image/png": "[encoded data removed]",
      "text/plain": [
       "plot without title"
      ]
     },
     "metadata": {},
     "output_type": "display_data"
    }
   ],
   "source": [
    "# Residual Plot: Predicted Price vs Residuals Observed\n",
    "ggplot(data = newData, aes(x = Price_Predicted, y = residuals)) +\n",
    "   geom_point(size = 1, color = 'blue') +\n",
    "   labs(x = 'Predicted Price', y = 'Residuals') + \n",
    "   ggtitle(\"Residual Plot\") +\n",
    "   theme(axis.text = element_text(size = 12),\n",
    "   axis.text.x = element_text(size = 14),\n",
    "   axis.text.y = element_text(size = 14),\n",
    "   axis.title = element_text(size = 14, face = \"bold\"))"
   ]
  },
  {
   "cell_type": "markdown",
   "id": "9f59e8fa",
   "metadata": {},
   "source": [
    "From the graph we can see that the data points are randomly dispersed around the horizontal axis, this implies our Regression model is appropriate for the data."
   ]
  },
  {
   "cell_type": "code",
   "execution_count": 29,
   "id": "7ab4a1dd",
   "metadata": {
    "ExecuteTime": {
     "end_time": "2021-05-24T05:23:15.628618Z",
     "start_time": "2021-05-24T05:23:04.717Z"
    }
   },
   "outputs": [
    {
     "data": {
      "image/png": "[encoded data removed]",
      "text/plain": [
       "Plot with title \"\""
      ]
     },
     "metadata": {},
     "output_type": "display_data"
    }
   ],
   "source": [
    "plot(model, which = 1, col = c(\"blue\")) \n",
    "# which = 1 --> Residual Plot"
   ]
  },
  {
   "cell_type": "markdown",
   "id": "c5b50730",
   "metadata": {},
   "source": [
    "Residual Plot is used to check the relationship between the Response and the Predictor. So we see a distinct pattern here which implies a non linear relationship and we can say our Linear Regression Model fits the data and the residuals capture what the linear model is missing( Non Linearity, Noise )"
   ]
  },
  {
   "cell_type": "code",
   "execution_count": 30,
   "id": "516d807d",
   "metadata": {
    "ExecuteTime": {
     "end_time": "2021-05-24T05:23:15.763217Z",
     "start_time": "2021-05-24T05:23:04.756Z"
    }
   },
   "outputs": [
    {
     "data": {
      "image/png": "[encoded data removed]",
      "text/plain": [
       "Plot with title \"\""
      ]
     },
     "metadata": {},
     "output_type": "display_data"
    }
   ],
   "source": [
    "plot(model, which = 3, col = c(\"green\")) \n",
    "#  which = 2 --> # Scale-Location Plot\n",
    "# gives sqroot of stdanrdized residual"
   ]
  },
  {
   "cell_type": "markdown",
   "id": "0f494cf3",
   "metadata": {},
   "source": [
    "The Scale_Location plot is used to check if the residuals have a constant vStandard Deviation (Homoscedasticity), constant variance is seen here as the plot is more or less horizontal. We see our red line fairly horizontal satisfying the assumption of homoscedasticity."
   ]
  },
  {
   "cell_type": "markdown",
   "id": "c99e1046",
   "metadata": {},
   "source": [
    "### Predicting the next day price"
   ]
  },
  {
   "cell_type": "code",
   "execution_count": 34,
   "id": "bed850d9",
   "metadata": {
    "ExecuteTime": {
     "end_time": "2021-05-24T05:24:42.137478Z",
     "start_time": "2021-05-24T05:24:42.056Z"
    },
    "scrolled": false
   },
   "outputs": [
    {
     "data": {
      "text/html": [
       "'The Predicted Price of HCL-InfoSystems for 20th May is Rs - '"
      ],
      "text/latex": [
       "'The Predicted Price of HCL-InfoSystems for 20th May is Rs - '"
      ],
      "text/markdown": [
       "'The Predicted Price of HCL-InfoSystems for 20th May is Rs - '"
      ],
      "text/plain": [
       "[1] \"The Predicted Price of HCL-InfoSystems for 20th May is Rs - \""
      ]
     },
     "metadata": {},
     "output_type": "display_data"
    },
    {
     "data": {
      "text/html": [
       "'9.37'"
      ],
      "text/latex": [
       "'9.37'"
      ],
      "text/markdown": [
       "'9.37'"
      ],
      "text/plain": [
       "[1] \"9.37\""
      ]
     },
     "metadata": {},
     "output_type": "display_data"
    }
   ],
   "source": [
    "PrData = data.frame(Open = c(9.75), High = c(9.80), Low = c(9.20))\n",
    "Pr_Price = predict(model, PrData)\n",
    "sprintf(\"The Predicted Price of HCL-InfoSystems for 20th May is Rs - \")\n",
    "sprintf(Pr_Price, fmt = '%#.2f')"
   ]
  },
  {
   "cell_type": "code",
   "execution_count": 32,
   "id": "425857ed",
   "metadata": {
    "ExecuteTime": {
     "end_time": "2021-05-24T05:23:15.880908Z",
     "start_time": "2021-05-24T05:23:04.817Z"
    }
   },
   "outputs": [
    {
     "data": {
      "text/html": [
       "0.100000000000001"
      ],
      "text/latex": [
       "0.100000000000001"
      ],
      "text/markdown": [
       "0.100000000000001"
      ],
      "text/plain": [
       "[1] 0.1"
      ]
     },
     "metadata": {},
     "output_type": "display_data"
    }
   ],
   "source": [
    "sum((9.40-9.37), (9.40-9.33), (9.40-9.40))"
   ]
  },
  {
   "cell_type": "code",
   "execution_count": null,
   "id": "a554c090",
   "metadata": {},
   "outputs": [],
   "source": []
  }
 ],
 "metadata": {
  "kernelspec": {
   "display_name": "R",
   "language": "R",
   "name": "ir"
  },
  "language_info": {
   "codemirror_mode": "r",
   "file_extension": ".r",
   "mimetype": "text/x-r-source",
   "name": "R",
   "pygments_lexer": "r",
   "version": "3.6.1"
  },
  "nbTranslate": {
   "displayLangs": [
    "*"
   ],
   "hotkey": "alt-t",
   "langInMainMenu": true,
   "sourceLang": "en",
   "targetLang": "fr",
   "useGoogleTranslate": true
  }
 },
 "nbformat": 4,
 "nbformat_minor": 5
}
